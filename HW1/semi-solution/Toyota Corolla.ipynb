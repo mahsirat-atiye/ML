{
 "cells": [
  {
   "cell_type": "code",
   "execution_count": 1,
   "metadata": {},
   "outputs": [],
   "source": [
    "import pandas as pd\n",
    "import sklearn\n",
    "import numpy as np\n",
    "import matplotlib.pyplot as plt\n",
    "%matplotlib inline"
   ]
  },
  {
   "cell_type": "code",
   "execution_count": 3,
   "metadata": {},
   "outputs": [],
   "source": [
    "data = pd.read_csv(\"/home/atiyeh/Documents/AmirUsefi/ML/ml/ml/ToyotaCorolla.csv\")"
   ]
  },
  {
   "cell_type": "code",
   "execution_count": 3,
   "metadata": {},
   "outputs": [
    {
     "data": {
      "text/html": [
       "<div>\n",
       "<style>\n",
       "    .dataframe thead tr:only-child th {\n",
       "        text-align: right;\n",
       "    }\n",
       "\n",
       "    .dataframe thead th {\n",
       "        text-align: left;\n",
       "    }\n",
       "\n",
       "    .dataframe tbody tr th {\n",
       "        vertical-align: top;\n",
       "    }\n",
       "</style>\n",
       "<table border=\"1\" class=\"dataframe\">\n",
       "  <thead>\n",
       "    <tr style=\"text-align: right;\">\n",
       "      <th></th>\n",
       "      <th>Price</th>\n",
       "      <th>Age</th>\n",
       "      <th>KM</th>\n",
       "      <th>FuelType</th>\n",
       "      <th>HP</th>\n",
       "      <th>MetColor</th>\n",
       "      <th>Automatic</th>\n",
       "      <th>CC</th>\n",
       "      <th>Doors</th>\n",
       "      <th>Weight</th>\n",
       "    </tr>\n",
       "  </thead>\n",
       "  <tbody>\n",
       "    <tr>\n",
       "      <th>0</th>\n",
       "      <td>13500</td>\n",
       "      <td>23</td>\n",
       "      <td>46986</td>\n",
       "      <td>Diesel</td>\n",
       "      <td>90</td>\n",
       "      <td>1</td>\n",
       "      <td>0</td>\n",
       "      <td>2000</td>\n",
       "      <td>3</td>\n",
       "      <td>1165</td>\n",
       "    </tr>\n",
       "    <tr>\n",
       "      <th>1</th>\n",
       "      <td>13750</td>\n",
       "      <td>23</td>\n",
       "      <td>72937</td>\n",
       "      <td>Diesel</td>\n",
       "      <td>90</td>\n",
       "      <td>1</td>\n",
       "      <td>0</td>\n",
       "      <td>2000</td>\n",
       "      <td>3</td>\n",
       "      <td>1165</td>\n",
       "    </tr>\n",
       "    <tr>\n",
       "      <th>2</th>\n",
       "      <td>13950</td>\n",
       "      <td>24</td>\n",
       "      <td>41711</td>\n",
       "      <td>Diesel</td>\n",
       "      <td>90</td>\n",
       "      <td>1</td>\n",
       "      <td>0</td>\n",
       "      <td>2000</td>\n",
       "      <td>3</td>\n",
       "      <td>1165</td>\n",
       "    </tr>\n",
       "    <tr>\n",
       "      <th>3</th>\n",
       "      <td>14950</td>\n",
       "      <td>26</td>\n",
       "      <td>48000</td>\n",
       "      <td>Diesel</td>\n",
       "      <td>90</td>\n",
       "      <td>0</td>\n",
       "      <td>0</td>\n",
       "      <td>2000</td>\n",
       "      <td>3</td>\n",
       "      <td>1165</td>\n",
       "    </tr>\n",
       "    <tr>\n",
       "      <th>4</th>\n",
       "      <td>13750</td>\n",
       "      <td>30</td>\n",
       "      <td>38500</td>\n",
       "      <td>Diesel</td>\n",
       "      <td>90</td>\n",
       "      <td>0</td>\n",
       "      <td>0</td>\n",
       "      <td>2000</td>\n",
       "      <td>3</td>\n",
       "      <td>1170</td>\n",
       "    </tr>\n",
       "    <tr>\n",
       "      <th>5</th>\n",
       "      <td>12950</td>\n",
       "      <td>32</td>\n",
       "      <td>61000</td>\n",
       "      <td>Diesel</td>\n",
       "      <td>90</td>\n",
       "      <td>0</td>\n",
       "      <td>0</td>\n",
       "      <td>2000</td>\n",
       "      <td>3</td>\n",
       "      <td>1170</td>\n",
       "    </tr>\n",
       "    <tr>\n",
       "      <th>6</th>\n",
       "      <td>16900</td>\n",
       "      <td>27</td>\n",
       "      <td>94612</td>\n",
       "      <td>Diesel</td>\n",
       "      <td>90</td>\n",
       "      <td>1</td>\n",
       "      <td>0</td>\n",
       "      <td>2000</td>\n",
       "      <td>3</td>\n",
       "      <td>1245</td>\n",
       "    </tr>\n",
       "    <tr>\n",
       "      <th>7</th>\n",
       "      <td>18600</td>\n",
       "      <td>30</td>\n",
       "      <td>75889</td>\n",
       "      <td>Diesel</td>\n",
       "      <td>90</td>\n",
       "      <td>1</td>\n",
       "      <td>0</td>\n",
       "      <td>2000</td>\n",
       "      <td>3</td>\n",
       "      <td>1245</td>\n",
       "    </tr>\n",
       "    <tr>\n",
       "      <th>8</th>\n",
       "      <td>21500</td>\n",
       "      <td>27</td>\n",
       "      <td>19700</td>\n",
       "      <td>Petrol</td>\n",
       "      <td>192</td>\n",
       "      <td>0</td>\n",
       "      <td>0</td>\n",
       "      <td>1800</td>\n",
       "      <td>3</td>\n",
       "      <td>1185</td>\n",
       "    </tr>\n",
       "    <tr>\n",
       "      <th>9</th>\n",
       "      <td>12950</td>\n",
       "      <td>23</td>\n",
       "      <td>71138</td>\n",
       "      <td>Diesel</td>\n",
       "      <td>69</td>\n",
       "      <td>0</td>\n",
       "      <td>0</td>\n",
       "      <td>1900</td>\n",
       "      <td>3</td>\n",
       "      <td>1105</td>\n",
       "    </tr>\n",
       "  </tbody>\n",
       "</table>\n",
       "</div>"
      ],
      "text/plain": [
       "   Price  Age     KM FuelType   HP  MetColor  Automatic    CC  Doors  Weight\n",
       "0  13500   23  46986   Diesel   90         1          0  2000      3    1165\n",
       "1  13750   23  72937   Diesel   90         1          0  2000      3    1165\n",
       "2  13950   24  41711   Diesel   90         1          0  2000      3    1165\n",
       "3  14950   26  48000   Diesel   90         0          0  2000      3    1165\n",
       "4  13750   30  38500   Diesel   90         0          0  2000      3    1170\n",
       "5  12950   32  61000   Diesel   90         0          0  2000      3    1170\n",
       "6  16900   27  94612   Diesel   90         1          0  2000      3    1245\n",
       "7  18600   30  75889   Diesel   90         1          0  2000      3    1245\n",
       "8  21500   27  19700   Petrol  192         0          0  1800      3    1185\n",
       "9  12950   23  71138   Diesel   69         0          0  1900      3    1105"
      ]
     },
     "execution_count": 3,
     "metadata": {},
     "output_type": "execute_result"
    }
   ],
   "source": [
    "data.head(10)"
   ]
  },
  {
   "cell_type": "code",
   "execution_count": 4,
   "metadata": {},
   "outputs": [
    {
     "name": "stdout",
     "output_type": "stream",
     "text": [
      "<class 'pandas.core.frame.DataFrame'>\n",
      "RangeIndex: 1436 entries, 0 to 1435\n",
      "Data columns (total 10 columns):\n",
      " #   Column     Non-Null Count  Dtype \n",
      "---  ------     --------------  ----- \n",
      " 0   Price      1436 non-null   int64 \n",
      " 1   Age        1436 non-null   int64 \n",
      " 2   KM         1436 non-null   int64 \n",
      " 3   FuelType   1436 non-null   object\n",
      " 4   HP         1436 non-null   int64 \n",
      " 5   MetColor   1436 non-null   int64 \n",
      " 6   Automatic  1436 non-null   int64 \n",
      " 7   CC         1436 non-null   int64 \n",
      " 8   Doors      1436 non-null   int64 \n",
      " 9   Weight     1436 non-null   int64 \n",
      "dtypes: int64(9), object(1)\n",
      "memory usage: 112.3+ KB\n"
     ]
    }
   ],
   "source": [
    "data.info()"
   ]
  },
  {
   "cell_type": "code",
   "execution_count": 5,
   "metadata": {},
   "outputs": [
    {
     "data": {
      "text/plain": [
       "(array([ 110.,  706.,  343.,  114.,   75.,   59.,   22.,    4.,    0.,    3.]),\n",
       " array([  4350.,   7165.,   9980.,  12795.,  15610.,  18425.,  21240.,\n",
       "         24055.,  26870.,  29685.,  32500.]),\n",
       " <a list of 10 Patch objects>)"
      ]
     },
     "execution_count": 5,
     "metadata": {},
     "output_type": "execute_result"
    },
    {
     "data": {
      "image/png": "[encoded data removed]",
      "text/plain": [
       "<matplotlib.figure.Figure at 0x1f88adf8be0>"
      ]
     },
     "metadata": {},
     "output_type": "display_data"
    }
   ],
   "source": [
    "plt.figure(figsize=(10,5))\n",
    "plt.hist(np.sort(data['Price']))"
   ]
  },
  {
   "cell_type": "code",
   "execution_count": 5,
   "metadata": {},
   "outputs": [],
   "source": [
    "import seaborn as sns"
   ]
  },
  {
   "cell_type": "code",
   "execution_count": 6,
   "metadata": {},
   "outputs": [],
   "source": [
    "#Following columns are quantitative\n",
    "# Price        1436 non-null int64\n",
    "#Age          1436 non-null int64\n",
    "#KM           1436 non-null int64\n",
    "#HP           1436 non-null int64\n",
    "#CC           1436 non-null int64\n",
    "#Doors        1436 non-null int64\n",
    "#Weight       1436 non-null int64"
   ]
  },
  {
   "cell_type": "code",
   "execution_count": 7,
   "metadata": {},
   "outputs": [],
   "source": [
    "#Convert the categorical variables to dummy variables\n",
    "#FuelType     1436 non-null object"
   ]
  },
  {
   "cell_type": "code",
   "execution_count": 11,
   "metadata": {},
   "outputs": [],
   "source": [
    "dummy_fuel = pd.get_dummies(data['FuelType'], drop_first='True')"
   ]
  },
  {
   "cell_type": "code",
   "execution_count": 12,
   "metadata": {},
   "outputs": [
    {
     "name": "stdout",
     "output_type": "stream",
     "text": [
      "      Diesel  Petrol\n",
      "0          1       0\n",
      "1          1       0\n",
      "2          1       0\n",
      "3          1       0\n",
      "4          1       0\n",
      "...      ...     ...\n",
      "1431       0       1\n",
      "1432       0       1\n",
      "1433       0       1\n",
      "1434       0       1\n",
      "1435       0       1\n",
      "\n",
      "[1436 rows x 2 columns]\n"
     ]
    }
   ],
   "source": [
    "print(dummy_fuel)"
   ]
  },
  {
   "cell_type": "code",
   "execution_count": 13,
   "metadata": {},
   "outputs": [
    {
     "data": {
      "text/plain": [
       "pandas.core.frame.DataFrame"
      ]
     },
     "execution_count": 13,
     "metadata": {},
     "output_type": "execute_result"
    }
   ],
   "source": [
    "type(dummy_fuel)"
   ]
  },
  {
   "cell_type": "code",
   "execution_count": 14,
   "metadata": {},
   "outputs": [
    {
     "data": {
      "text/plain": [
       "Counter({'Diesel': 155, 'Petrol': 1264, 'CNG': 17})"
      ]
     },
     "execution_count": 14,
     "metadata": {},
     "output_type": "execute_result"
    }
   ],
   "source": [
    "from collections import Counter\n",
    "Counter(data['FuelType'])"
   ]
  },
  {
   "cell_type": "code",
   "execution_count": 15,
   "metadata": {},
   "outputs": [],
   "source": [
    "data_new = pd.concat([data, dummy_fuel], axis=1)"
   ]
  },
  {
   "cell_type": "code",
   "execution_count": 17,
   "metadata": {},
   "outputs": [
    {
     "data": {
      "text/plain": [
       "Index(['Price', 'Age', 'KM', 'FuelType', 'HP', 'MetColor', 'Automatic', 'CC',\n",
       "       'Doors', 'Weight', 'Diesel', 'Petrol'],\n",
       "      dtype='object')"
      ]
     },
     "execution_count": 17,
     "metadata": {},
     "output_type": "execute_result"
    }
   ],
   "source": [
    "data_new.columns"
   ]
  },
  {
   "cell_type": "code",
   "execution_count": 18,
   "metadata": {},
   "outputs": [],
   "source": [
    "data=data_new.drop('FuelType', axis=1)"
   ]
  },
  {
   "cell_type": "code",
   "execution_count": 19,
   "metadata": {},
   "outputs": [
    {
     "data": {
      "text/plain": [
       "Index(['Price', 'Age', 'KM', 'HP', 'MetColor', 'Automatic', 'CC', 'Doors',\n",
       "       'Weight', 'Diesel', 'Petrol'],\n",
       "      dtype='object')"
      ]
     },
     "execution_count": 19,
     "metadata": {},
     "output_type": "execute_result"
    }
   ],
   "source": [
    "data.columns"
   ]
  },
  {
   "cell_type": "markdown",
   "metadata": {},
   "source": [
    "# Data Exploratory Analysis"
   ]
  },
  {
   "cell_type": "code",
   "execution_count": 20,
   "metadata": {},
   "outputs": [
    {
     "data": {
      "text/plain": [
       "<seaborn.axisgrid.PairGrid at 0x7f926e20f6d8>"
      ]
     },
     "execution_count": 20,
     "metadata": {},
     "output_type": "execute_result"
    },
    {
     "data": {
      "image/png": "[encoded data removed]",
      "text/plain": [
       "<Figure size 1080x1080 with 42 Axes>"
      ]
     },
     "metadata": {
      "needs_background": "light"
     },
     "output_type": "display_data"
    }
   ],
   "source": [
    "sns.pairplot(data[['Age','KM','HP','CC','Doors','Weight']])"
   ]
  },
  {
   "cell_type": "markdown",
   "metadata": {},
   "source": [
    "## check for outliers using box plot"
   ]
  },
  {
   "cell_type": "code",
   "execution_count": 21,
   "metadata": {},
   "outputs": [
    {
     "data": {
      "text/plain": [
       "<matplotlib.axes._subplots.AxesSubplot at 0x7f926b4f8b00>"
      ]
     },
     "execution_count": 21,
     "metadata": {},
     "output_type": "execute_result"
    },
    {
     "data": {
      "image/png": "[encoded data removed]",
      "text/plain": [
       "<Figure size 432x288 with 1 Axes>"
      ]
     },
     "metadata": {
      "needs_background": "light"
     },
     "output_type": "display_data"
    }
   ],
   "source": [
    "#sns.pairplot(data[['Age','KM','HP','CC','Doors','Weight']])\n",
    "sns.boxplot('Age', data=data, orient='v')"
   ]
  },
  {
   "cell_type": "code",
   "execution_count": 22,
   "metadata": {},
   "outputs": [
    {
     "data": {
      "text/plain": [
       "count    1436.000000\n",
       "mean       55.947075\n",
       "std        18.599988\n",
       "min         1.000000\n",
       "25%        44.000000\n",
       "50%        61.000000\n",
       "75%        70.000000\n",
       "max        80.000000\n",
       "Name: Age, dtype: float64"
      ]
     },
     "execution_count": 22,
     "metadata": {},
     "output_type": "execute_result"
    }
   ],
   "source": [
    "data['Age'].describe()"
   ]
  },
  {
   "cell_type": "code",
   "execution_count": 23,
   "metadata": {},
   "outputs": [
    {
     "data": {
      "text/plain": [
       "<matplotlib.axes._subplots.AxesSubplot at 0x7f9268daf470>"
      ]
     },
     "execution_count": 23,
     "metadata": {},
     "output_type": "execute_result"
    },
    {
     "data": {
      "image/png": "[encoded data removed]",
      "text/plain": [
       "<Figure size 432x288 with 1 Axes>"
      ]
     },
     "metadata": {
      "needs_background": "light"
     },
     "output_type": "display_data"
    }
   ],
   "source": [
    "sns.boxplot(x='KM', data=data, orient='v')"
   ]
  },
  {
   "cell_type": "code",
   "execution_count": 24,
   "metadata": {},
   "outputs": [
    {
     "data": {
      "text/plain": [
       "count      1436.000000\n",
       "mean      68533.259749\n",
       "std       37506.448872\n",
       "min           1.000000\n",
       "25%       43000.000000\n",
       "50%       63389.500000\n",
       "75%       87020.750000\n",
       "max      243000.000000\n",
       "Name: KM, dtype: float64"
      ]
     },
     "execution_count": 24,
     "metadata": {},
     "output_type": "execute_result"
    }
   ],
   "source": [
    "data['KM'].describe()"
   ]
  },
  {
   "cell_type": "code",
   "execution_count": 22,
   "metadata": {},
   "outputs": [
    {
     "data": {
      "text/plain": [
       "<matplotlib.collections.PathCollection at 0x1f88f0deb00>"
      ]
     },
     "execution_count": 22,
     "metadata": {},
     "output_type": "execute_result"
    },
    {
     "data": {
      "image/png": "[encoded data removed]",
      "text/plain": [
       "<matplotlib.figure.Figure at 0x1f88cb14518>"
      ]
     },
     "metadata": {},
     "output_type": "display_data"
    }
   ],
   "source": [
    "#check scatterplot of Age and KM to see if as age increases number of kms increases\n",
    "plt.figure(figsize=(10,8))\n",
    "plt.scatter(x=data['Age'], y=data['KM'], s=3)\n",
    "#the scatter plot shows that as the age of the vehicle increases, so does the distance. With an exception of a \n",
    "#few vehicles. Whih are acceptable outliers"
   ]
  },
  {
   "cell_type": "code",
   "execution_count": 25,
   "metadata": {},
   "outputs": [
    {
     "data": {
      "text/plain": [
       "<matplotlib.collections.PathCollection at 0x7f9268d592b0>"
      ]
     },
     "execution_count": 25,
     "metadata": {},
     "output_type": "execute_result"
    },
    {
     "data": {
      "image/png": "[encoded data removed]",
      "text/plain": [
       "<Figure size 720x576 with 1 Axes>"
      ]
     },
     "metadata": {
      "needs_background": "light"
     },
     "output_type": "display_data"
    }
   ],
   "source": [
    "#check the scatterplot of age and price\n",
    "plt.figure(figsize=(10,8))\n",
    "plt.scatter(x=data['Age'], y=data['Price'], s=3)\n",
    "#so.. older the vehicle, lesser the price "
   ]
  },
  {
   "cell_type": "code",
   "execution_count": 26,
   "metadata": {},
   "outputs": [
    {
     "data": {
      "text/plain": [
       "<matplotlib.axes._subplots.AxesSubplot at 0x7f9268d11f60>"
      ]
     },
     "execution_count": 26,
     "metadata": {},
     "output_type": "execute_result"
    },
    {
     "data": {
      "image/png": "[encoded data removed]",
      "text/plain": [
       "<Figure size 432x288 with 1 Axes>"
      ]
     },
     "metadata": {
      "needs_background": "light"
     },
     "output_type": "display_data"
    }
   ],
   "source": [
    "#check for outliers of the rest of the quantitative variables\n",
    "sns.boxplot(x='HP', data=data, orient='v')"
   ]
  },
  {
   "cell_type": "code",
   "execution_count": 27,
   "metadata": {},
   "outputs": [
    {
     "data": {
      "text/plain": [
       "<matplotlib.axes._subplots.AxesSubplot at 0x7f9268c6da90>"
      ]
     },
     "execution_count": 27,
     "metadata": {},
     "output_type": "execute_result"
    },
    {
     "data": {
      "image/png": "[encoded data removed]",
      "text/plain": [
       "<Figure size 432x288 with 1 Axes>"
      ]
     },
     "metadata": {
      "needs_background": "light"
     },
     "output_type": "display_data"
    }
   ],
   "source": [
    "sns.boxplot(x='CC', data=data, orient='v')"
   ]
  },
  {
   "cell_type": "code",
   "execution_count": 26,
   "metadata": {},
   "outputs": [
    {
     "data": {
      "text/plain": [
       "<matplotlib.axes._subplots.AxesSubplot at 0x1f88f197e10>"
      ]
     },
     "execution_count": 26,
     "metadata": {},
     "output_type": "execute_result"
    },
    {
     "data": {
      "image/png": "[encoded data removed]",
      "text/plain": [
       "<matplotlib.figure.Figure at 0x1f88f142ef0>"
      ]
     },
     "metadata": {},
     "output_type": "display_data"
    }
   ],
   "source": [
    "sns.boxplot(x='Doors', data=data, orient='v')"
   ]
  },
  {
   "cell_type": "code",
   "execution_count": 28,
   "metadata": {},
   "outputs": [
    {
     "data": {
      "text/plain": [
       "<matplotlib.axes._subplots.AxesSubplot at 0x7f9268c50e48>"
      ]
     },
     "execution_count": 28,
     "metadata": {},
     "output_type": "execute_result"
    },
    {
     "data": {
      "image/png": "[encoded data removed]",
      "text/plain": [
       "<Figure size 432x288 with 1 Axes>"
      ]
     },
     "metadata": {
      "needs_background": "light"
     },
     "output_type": "display_data"
    }
   ],
   "source": [
    "sns.boxplot(x='Weight', data=data, orient='v')"
   ]
  },
  {
   "cell_type": "code",
   "execution_count": 29,
   "metadata": {},
   "outputs": [
    {
     "data": {
      "text/plain": [
       "count    1436.00000\n",
       "mean     1072.45961\n",
       "std        52.64112\n",
       "min      1000.00000\n",
       "25%      1040.00000\n",
       "50%      1070.00000\n",
       "75%      1085.00000\n",
       "max      1615.00000\n",
       "Name: Weight, dtype: float64"
      ]
     },
     "execution_count": 29,
     "metadata": {},
     "output_type": "execute_result"
    }
   ],
   "source": [
    "data['Weight'].describe()"
   ]
  },
  {
   "cell_type": "code",
   "execution_count": 30,
   "metadata": {},
   "outputs": [
    {
     "data": {
      "text/plain": [
       "count     1436.000000\n",
       "mean     10730.824513\n",
       "std       3626.964585\n",
       "min       4350.000000\n",
       "25%       8450.000000\n",
       "50%       9900.000000\n",
       "75%      11950.000000\n",
       "max      32500.000000\n",
       "Name: Price, dtype: float64"
      ]
     },
     "execution_count": 30,
     "metadata": {},
     "output_type": "execute_result"
    }
   ],
   "source": [
    "data['Price'].describe()"
   ]
  },
  {
   "cell_type": "markdown",
   "metadata": {},
   "source": [
    "# Modelling"
   ]
  },
  {
   "cell_type": "code",
   "execution_count": 30,
   "metadata": {},
   "outputs": [
    {
     "data": {
      "text/plain": [
       "Index(['Price', 'Age', 'KM', 'HP', 'MetColor', 'Automatic', 'CC', 'Doors',\n",
       "       'Weight', 'Diesel', 'Petrol'],\n",
       "      dtype='object')"
      ]
     },
     "execution_count": 30,
     "metadata": {},
     "output_type": "execute_result"
    }
   ],
   "source": [
    "data.columns"
   ]
  },
  {
   "cell_type": "code",
   "execution_count": 31,
   "metadata": {},
   "outputs": [],
   "source": [
    "#Split the x and y variables \n",
    "y = data['Price']\n",
    "x = data.iloc[:,1:]"
   ]
  },
  {
   "cell_type": "code",
   "execution_count": 35,
   "metadata": {},
   "outputs": [
    {
     "data": {
      "text/plain": [
       "Index(['Age', 'KM', 'HP', 'MetColor', 'Automatic', 'CC', 'Doors', 'Weight',\n",
       "       'Diesel', 'Petrol'],\n",
       "      dtype='object')"
      ]
     },
     "execution_count": 35,
     "metadata": {},
     "output_type": "execute_result"
    }
   ],
   "source": [
    "x.columns"
   ]
  },
  {
   "cell_type": "code",
   "execution_count": 38,
   "metadata": {},
   "outputs": [
    {
     "data": {
      "text/plain": [
       "pandas.core.series.Series"
      ]
     },
     "execution_count": 38,
     "metadata": {},
     "output_type": "execute_result"
    }
   ],
   "source": [
    "y.column='Price'\n",
    "type(y)"
   ]
  },
  {
   "cell_type": "code",
   "execution_count": 39,
   "metadata": {},
   "outputs": [
    {
     "data": {
      "text/plain": [
       "0    13500\n",
       "1    13750\n",
       "2    13950\n",
       "3    14950\n",
       "4    13750\n",
       "Name: Price, dtype: int64"
      ]
     },
     "execution_count": 39,
     "metadata": {},
     "output_type": "execute_result"
    }
   ],
   "source": [
    "y.head(5)"
   ]
  },
  {
   "cell_type": "code",
   "execution_count": 41,
   "metadata": {},
   "outputs": [],
   "source": [
    "#Split the data to train and test data\n",
    "from sklearn.model_selection import train_test_split\n",
    "x_train, x_test, y_train, y_test = train_test_split(x,y,test_size = 0.25, random_state=365)"
   ]
  },
  {
   "cell_type": "code",
   "execution_count": 36,
   "metadata": {},
   "outputs": [
    {
     "data": {
      "text/html": [
       "<div>\n",
       "<style>\n",
       "    .dataframe thead tr:only-child th {\n",
       "        text-align: right;\n",
       "    }\n",
       "\n",
       "    .dataframe thead th {\n",
       "        text-align: left;\n",
       "    }\n",
       "\n",
       "    .dataframe tbody tr th {\n",
       "        vertical-align: top;\n",
       "    }\n",
       "</style>\n",
       "<table border=\"1\" class=\"dataframe\">\n",
       "  <thead>\n",
       "    <tr style=\"text-align: right;\">\n",
       "      <th></th>\n",
       "      <th>Age</th>\n",
       "      <th>KM</th>\n",
       "      <th>HP</th>\n",
       "      <th>MetColor</th>\n",
       "      <th>Automatic</th>\n",
       "      <th>CC</th>\n",
       "      <th>Doors</th>\n",
       "      <th>Weight</th>\n",
       "      <th>Diesel</th>\n",
       "      <th>Petrol</th>\n",
       "    </tr>\n",
       "  </thead>\n",
       "  <tbody>\n",
       "    <tr>\n",
       "      <th>796</th>\n",
       "      <td>60</td>\n",
       "      <td>74337</td>\n",
       "      <td>86</td>\n",
       "      <td>0</td>\n",
       "      <td>0</td>\n",
       "      <td>1300</td>\n",
       "      <td>5</td>\n",
       "      <td>1035</td>\n",
       "      <td>0</td>\n",
       "      <td>1</td>\n",
       "    </tr>\n",
       "    <tr>\n",
       "      <th>352</th>\n",
       "      <td>38</td>\n",
       "      <td>26262</td>\n",
       "      <td>110</td>\n",
       "      <td>1</td>\n",
       "      <td>0</td>\n",
       "      <td>1600</td>\n",
       "      <td>5</td>\n",
       "      <td>1075</td>\n",
       "      <td>0</td>\n",
       "      <td>1</td>\n",
       "    </tr>\n",
       "    <tr>\n",
       "      <th>768</th>\n",
       "      <td>59</td>\n",
       "      <td>78750</td>\n",
       "      <td>90</td>\n",
       "      <td>1</td>\n",
       "      <td>0</td>\n",
       "      <td>1975</td>\n",
       "      <td>5</td>\n",
       "      <td>1155</td>\n",
       "      <td>1</td>\n",
       "      <td>0</td>\n",
       "    </tr>\n",
       "    <tr>\n",
       "      <th>772</th>\n",
       "      <td>61</td>\n",
       "      <td>78063</td>\n",
       "      <td>107</td>\n",
       "      <td>1</td>\n",
       "      <td>1</td>\n",
       "      <td>1600</td>\n",
       "      <td>5</td>\n",
       "      <td>1100</td>\n",
       "      <td>0</td>\n",
       "      <td>1</td>\n",
       "    </tr>\n",
       "    <tr>\n",
       "      <th>68</th>\n",
       "      <td>22</td>\n",
       "      <td>30000</td>\n",
       "      <td>110</td>\n",
       "      <td>1</td>\n",
       "      <td>0</td>\n",
       "      <td>2000</td>\n",
       "      <td>5</td>\n",
       "      <td>1275</td>\n",
       "      <td>1</td>\n",
       "      <td>0</td>\n",
       "    </tr>\n",
       "  </tbody>\n",
       "</table>\n",
       "</div>"
      ],
      "text/plain": [
       "     Age     KM   HP  MetColor  Automatic    CC  Doors  Weight  Diesel  Petrol\n",
       "796   60  74337   86         0          0  1300      5    1035       0       1\n",
       "352   38  26262  110         1          0  1600      5    1075       0       1\n",
       "768   59  78750   90         1          0  1975      5    1155       1       0\n",
       "772   61  78063  107         1          1  1600      5    1100       0       1\n",
       "68    22  30000  110         1          0  2000      5    1275       1       0"
      ]
     },
     "execution_count": 36,
     "metadata": {},
     "output_type": "execute_result"
    }
   ],
   "source": [
    "x_train.head(5)"
   ]
  },
  {
   "cell_type": "code",
   "execution_count": 37,
   "metadata": {},
   "outputs": [
    {
     "data": {
      "text/html": [
       "<div>\n",
       "<style>\n",
       "    .dataframe thead tr:only-child th {\n",
       "        text-align: right;\n",
       "    }\n",
       "\n",
       "    .dataframe thead th {\n",
       "        text-align: left;\n",
       "    }\n",
       "\n",
       "    .dataframe tbody tr th {\n",
       "        vertical-align: top;\n",
       "    }\n",
       "</style>\n",
       "<table border=\"1\" class=\"dataframe\">\n",
       "  <thead>\n",
       "    <tr style=\"text-align: right;\">\n",
       "      <th></th>\n",
       "      <th>Age</th>\n",
       "      <th>KM</th>\n",
       "      <th>HP</th>\n",
       "      <th>MetColor</th>\n",
       "      <th>Automatic</th>\n",
       "      <th>CC</th>\n",
       "      <th>Doors</th>\n",
       "      <th>Weight</th>\n",
       "      <th>Diesel</th>\n",
       "      <th>Petrol</th>\n",
       "    </tr>\n",
       "  </thead>\n",
       "  <tbody>\n",
       "    <tr>\n",
       "      <th>42</th>\n",
       "      <td>22</td>\n",
       "      <td>46961</td>\n",
       "      <td>97</td>\n",
       "      <td>0</td>\n",
       "      <td>0</td>\n",
       "      <td>1400</td>\n",
       "      <td>3</td>\n",
       "      <td>1100</td>\n",
       "      <td>0</td>\n",
       "      <td>1</td>\n",
       "    </tr>\n",
       "    <tr>\n",
       "      <th>1012</th>\n",
       "      <td>66</td>\n",
       "      <td>36658</td>\n",
       "      <td>110</td>\n",
       "      <td>0</td>\n",
       "      <td>0</td>\n",
       "      <td>1600</td>\n",
       "      <td>3</td>\n",
       "      <td>1050</td>\n",
       "      <td>0</td>\n",
       "      <td>1</td>\n",
       "    </tr>\n",
       "    <tr>\n",
       "      <th>547</th>\n",
       "      <td>55</td>\n",
       "      <td>44537</td>\n",
       "      <td>97</td>\n",
       "      <td>0</td>\n",
       "      <td>0</td>\n",
       "      <td>1400</td>\n",
       "      <td>3</td>\n",
       "      <td>1025</td>\n",
       "      <td>0</td>\n",
       "      <td>1</td>\n",
       "    </tr>\n",
       "    <tr>\n",
       "      <th>366</th>\n",
       "      <td>35</td>\n",
       "      <td>21904</td>\n",
       "      <td>97</td>\n",
       "      <td>0</td>\n",
       "      <td>0</td>\n",
       "      <td>1400</td>\n",
       "      <td>3</td>\n",
       "      <td>1025</td>\n",
       "      <td>0</td>\n",
       "      <td>1</td>\n",
       "    </tr>\n",
       "    <tr>\n",
       "      <th>1354</th>\n",
       "      <td>79</td>\n",
       "      <td>60142</td>\n",
       "      <td>110</td>\n",
       "      <td>0</td>\n",
       "      <td>0</td>\n",
       "      <td>1600</td>\n",
       "      <td>3</td>\n",
       "      <td>1050</td>\n",
       "      <td>0</td>\n",
       "      <td>1</td>\n",
       "    </tr>\n",
       "  </tbody>\n",
       "</table>\n",
       "</div>"
      ],
      "text/plain": [
       "      Age     KM   HP  MetColor  Automatic    CC  Doors  Weight  Diesel  \\\n",
       "42     22  46961   97         0          0  1400      3    1100       0   \n",
       "1012   66  36658  110         0          0  1600      3    1050       0   \n",
       "547    55  44537   97         0          0  1400      3    1025       0   \n",
       "366    35  21904   97         0          0  1400      3    1025       0   \n",
       "1354   79  60142  110         0          0  1600      3    1050       0   \n",
       "\n",
       "      Petrol  \n",
       "42         1  \n",
       "1012       1  \n",
       "547        1  \n",
       "366        1  \n",
       "1354       1  "
      ]
     },
     "execution_count": 37,
     "metadata": {},
     "output_type": "execute_result"
    }
   ],
   "source": [
    "x_test.head(5)"
   ]
  },
  {
   "cell_type": "code",
   "execution_count": 42,
   "metadata": {},
   "outputs": [
    {
     "name": "stdout",
     "output_type": "stream",
     "text": [
      "359\n"
     ]
    }
   ],
   "source": [
    "print(len(x_test))"
   ]
  },
  {
   "cell_type": "code",
   "execution_count": 43,
   "metadata": {},
   "outputs": [
    {
     "data": {
      "text/plain": [
       "796    11950\n",
       "352    12450\n",
       "768    10950\n",
       "772     9500\n",
       "68     22250\n",
       "Name: Price, dtype: int64"
      ]
     },
     "execution_count": 43,
     "metadata": {},
     "output_type": "execute_result"
    }
   ],
   "source": [
    "y_train.head(5)"
   ]
  },
  {
   "cell_type": "code",
   "execution_count": 40,
   "metadata": {},
   "outputs": [
    {
     "data": {
      "text/plain": [
       "42      13950\n",
       "1012     9950\n",
       "547      9950\n",
       "366     10950\n",
       "1354     9450\n",
       "Name: Price, dtype: int64"
      ]
     },
     "execution_count": 40,
     "metadata": {},
     "output_type": "execute_result"
    }
   ],
   "source": [
    "y_test.head(5)"
   ]
  },
  {
   "cell_type": "code",
   "execution_count": 44,
   "metadata": {},
   "outputs": [],
   "source": [
    "from sklearn.linear_model import LinearRegression\n",
    "lr = LinearRegression()"
   ]
  },
  {
   "cell_type": "code",
   "execution_count": 45,
   "metadata": {},
   "outputs": [
    {
     "data": {
      "text/plain": [
       "LinearRegression(copy_X=True, fit_intercept=True, n_jobs=None, normalize=False)"
      ]
     },
     "execution_count": 45,
     "metadata": {},
     "output_type": "execute_result"
    }
   ],
   "source": [
    "lr.fit(x_train,y_train)"
   ]
  },
  {
   "cell_type": "code",
   "execution_count": 46,
   "metadata": {},
   "outputs": [],
   "source": [
    "lr_predict = lr.predict(x_test)"
   ]
  },
  {
   "cell_type": "code",
   "execution_count": 44,
   "metadata": {},
   "outputs": [
    {
     "name": "stdout",
     "output_type": "stream",
     "text": [
      "[ 15922.40047874   9694.19162534  10529.31638088  13366.55717546\n",
      "   7703.53991069  11293.05357065  14854.51858167   7926.32786907\n",
      "  10219.87726585  11056.53699706  12826.29391104  10263.59124494\n",
      "  16926.10863352  17990.29446136  10027.15961851  10994.97510922\n",
      "   7623.42359281  10111.31483935   8852.27784972   7403.13940629\n",
      "   9691.29343977   8109.53668204   8057.89009285  12316.45277246\n",
      "   7832.9775925   16397.7962566   11603.74800593  10160.63322655\n",
      "  15684.94293847   9932.52924735  10785.8989783    8051.01772333\n",
      "   8270.6181485   15978.43237782  11184.54301916   7904.11181537\n",
      "  20771.60239757   9428.46077266   8777.05986558   9797.15157636\n",
      "   5933.48892474  12684.25125591  15709.87248469  11198.45420135\n",
      "   9371.7545852    5012.88646431   9493.74358235   8634.60701794\n",
      "  20063.33129622   8929.16031644   9763.47346781  17479.08334116\n",
      "  10009.4177025    9068.92266969   6689.83284127   9985.22093373\n",
      "  16633.27109142  15920.09574553   7288.1748989   15743.58889247\n",
      "  18901.41265624  16824.05952948  12258.38744315  13963.7536588\n",
      "   9670.88817224   7630.68316012   7675.45215938  10827.49338215\n",
      "   8057.76789744   9040.20352991  10103.01334819  16344.62631202\n",
      "  17491.34474751   8008.36932761  17093.38579398   9390.71027534\n",
      "   6552.59850441  10744.71944959  11805.39512246   7957.9188827\n",
      "  18841.74982864   8298.162888     8073.07635932  13350.55354983\n",
      "   6929.29282304  11470.82215098  22885.78987343  13507.88913858\n",
      "   7946.22649664   7102.79356652  19416.80652908  12774.5300265\n",
      "  18522.33540951  11104.09553568  10166.23926033  12735.69975697\n",
      "   6847.3552137    8600.46027708   5359.04567493  10592.49831399\n",
      "   7880.24658859  12643.12968422  16630.63240282   6219.92444901\n",
      "   9962.69497438   9344.81671915   8251.94573707  15750.53433519\n",
      "  10280.02240633   8272.32952801   8688.654751     8628.66034069\n",
      "  10770.45250011   8629.97768388   8606.65101151  11717.36022055\n",
      "   9651.59296537  10806.96379739  17298.39030007  11428.18382483\n",
      "  13402.28795079   7183.77100865  10741.43450241   7666.54002427\n",
      "  13179.84374822  10473.84077635   8479.94369164   9037.57025143\n",
      "   7246.14928367   8838.39432757  13804.79817494   7971.26150576\n",
      "  10740.88735531  11131.12386367  15213.69618826   9407.18972613\n",
      "   9616.24004112   8142.8337642   11297.60058028  12789.52107648\n",
      "   8315.3144566   16804.12980448  11194.67689972   6239.48613255\n",
      "   9355.80699436   8042.53041934   9216.48449467  12375.71450098\n",
      "   7579.31372656   8054.70574085   8774.41872942  11932.57652541\n",
      "  10104.73407082   6799.64857206   5938.62363296   8887.96692627\n",
      "  12255.95010587  11407.93685777  10125.86500074  13540.73930549\n",
      "  15632.42029749   9349.30980181  18215.12848182  13137.23169918\n",
      "   5326.04783695   6697.65674957   8902.04435422  16103.93736557\n",
      "  13656.84498784   5748.01326642  10842.94513915   8860.13931958\n",
      "   7543.88971327  13690.4285024   10991.87143547   8550.44746472\n",
      "  17050.10886483   8527.25202177   8877.99528828  11870.3945555\n",
      "   7203.75824876   9706.21904115  10005.8022155   17993.74391945\n",
      "  10501.07046211   6943.90697207  11094.10375489   9112.64959246\n",
      "   7808.60497686   8842.374667    11705.1847017   10881.80710519\n",
      "  11935.91168622  10832.094662    16670.24625002   7918.06514489\n",
      "   8419.50856214  12586.39599949  18155.92575509  13331.38381851\n",
      "   7878.67928362  13155.13961207   9171.02515187   8443.44438394\n",
      "  10330.5803433   11313.9926481    9172.61755199  11875.90782572\n",
      "   5229.21205112  10289.83402747  13126.7748817   10735.07506424\n",
      "  10827.42429141   7945.85147034  10254.05567197  18054.22596195\n",
      "  11236.87189749   7858.04240962  12809.44198469   8585.15253152\n",
      "   8637.88410696   9006.83432404  19346.62251141   9899.50687724\n",
      "  13928.52506077   7929.70572519   7929.17314571  14034.91804728\n",
      "  14191.73157715   7246.68365803   7742.80680873   6592.35374856\n",
      "   8401.98953946   9316.74337268  16008.65853276   6680.84273406\n",
      "  12017.76003486   8277.61096531  10187.20554431  10380.57028354\n",
      "   8875.49997136  12895.90610776  10433.24549786   8080.81396884\n",
      "  10250.6892829    9034.66814977   9238.5044632    6847.82724211\n",
      "   7695.01026913   7617.47888705  10176.99498265   6723.69889978\n",
      "   7457.45233096   8988.07009806   8807.70570936  16691.48157822\n",
      "   8414.86031342   9453.78390169   8169.89976907  16461.48131851\n",
      "   9059.21208671   9161.24076499  12771.39549905   8644.56771649\n",
      "  13046.39768174   7633.12975917   7565.67489743   7798.20616598\n",
      "   9513.79240994   5196.4963334   13302.63474164  17321.7794095\n",
      "   8577.69700342  14399.65330354  10748.53612883  10152.63639924\n",
      "  12916.12661753   7956.62268866  18036.35560091  18016.36686884\n",
      "   9384.58202397  13504.45385083  17290.0763985    8713.30325174\n",
      "  12003.89537008   8984.17009293  14034.75346249   7042.04723869\n",
      "   9407.54228065  17159.93846142  10281.08024646  10152.32130623\n",
      "  16592.56681694  11989.18962907  10535.66758776   9941.52722571\n",
      "   9001.93535134   9746.61635264  10766.75605918   7315.8424817\n",
      "   9387.42350469  11868.22870858  10067.61131569   6946.98147271\n",
      "  10684.69975803   9288.29810381  17310.67829959   9796.08200316\n",
      "   6966.97148778   9382.04185254  15887.37736394   7148.90675815\n",
      "  11151.13759376  15774.36664513   8393.59122352  15371.56743776\n",
      "  11386.72840596   7349.67796546  14422.54514831  10195.2476519\n",
      "   9516.39070263  10383.18849786   7940.58016562   9426.26312571\n",
      "   8039.19098836  16846.40273012  20400.50798672   7427.92321033\n",
      "   8530.9060667   18781.64817056  13817.12322383  10457.75765062\n",
      "   9238.59584839  16206.21368863  15858.52484798   8740.12172466\n",
      "   9060.00856652  11954.95216686   7422.79852993   5468.82652503\n",
      "  20915.563019     8464.14067589  12615.65831862  12356.49215549\n",
      "   8833.68687297  12544.70571231   8379.04937692  14261.55824112\n",
      "   7782.14566468  11049.14996556  10395.77201337   5093.34846087\n",
      "   9814.66532655   9978.35226057  11888.55806412  12212.87039321\n",
      "   9398.22047734  17136.70418742   7945.10445387]\n"
     ]
    }
   ],
   "source": [
    "print(lr_predict)"
   ]
  },
  {
   "cell_type": "code",
   "execution_count": 45,
   "metadata": {},
   "outputs": [
    {
     "name": "stdout",
     "output_type": "stream",
     "text": [
      "359\n"
     ]
    }
   ],
   "source": [
    "print(len(lr_predict))"
   ]
  },
  {
   "cell_type": "code",
   "execution_count": 47,
   "metadata": {},
   "outputs": [],
   "source": [
    "#To evaluate model performance, calculate R2 value, RMSE, and explained variance score\n",
    "#R2value - Greater the better\n",
    "# RMSE - Need to find out\n",
    "# Explained variance score - 1.0 is perfect. Lower value, worse is the model\n",
    "from sklearn.metrics import r2_score, mean_squared_error, explained_variance_score"
   ]
  },
  {
   "cell_type": "code",
   "execution_count": 48,
   "metadata": {},
   "outputs": [
    {
     "data": {
      "text/plain": [
       "0.8870487623633435"
      ]
     },
     "execution_count": 48,
     "metadata": {},
     "output_type": "execute_result"
    }
   ],
   "source": [
    "r2_score(y_test, lr_predict)"
   ]
  },
  {
   "cell_type": "code",
   "execution_count": 49,
   "metadata": {},
   "outputs": [
    {
     "data": {
      "text/plain": [
       "1541950.7009215103"
      ]
     },
     "execution_count": 49,
     "metadata": {},
     "output_type": "execute_result"
    }
   ],
   "source": [
    "mean_squared_error(y_test,lr_predict)"
   ]
  },
  {
   "cell_type": "code",
   "execution_count": 50,
   "metadata": {},
   "outputs": [
    {
     "data": {
      "text/plain": [
       "0.8879397695060212"
      ]
     },
     "execution_count": 50,
     "metadata": {},
     "output_type": "execute_result"
    }
   ],
   "source": [
    "explained_variance_score(y_test,lr_predict)"
   ]
  },
  {
   "cell_type": "code",
   "execution_count": 51,
   "metadata": {},
   "outputs": [
    {
     "name": "stdout",
     "output_type": "stream",
     "text": [
      "-1745.5694477661873\n",
      "[-1.22970759e+02 -1.66935724e-02  6.37882269e+01  4.93867878e+01\n",
      "  3.83917462e+02 -4.50863389e+00  1.49149478e+01  1.83401905e+01\n",
      "  3.68619751e+03  1.06294856e+03]\n"
     ]
    }
   ],
   "source": [
    "print(lr.intercept_)\n",
    "print(lr.coef_)"
   ]
  },
  {
   "cell_type": "code",
   "execution_count": 52,
   "metadata": {},
   "outputs": [
    {
     "data": {
      "text/plain": [
       "Index(['Price', 'Age', 'KM', 'HP', 'MetColor', 'Automatic', 'CC', 'Doors',\n",
       "       'Weight', 'Diesel', 'Petrol'],\n",
       "      dtype='object')"
      ]
     },
     "execution_count": 52,
     "metadata": {},
     "output_type": "execute_result"
    }
   ],
   "source": [
    "data.columns"
   ]
  },
  {
   "cell_type": "code",
   "execution_count": 53,
   "metadata": {},
   "outputs": [
    {
     "name": "stdout",
     "output_type": "stream",
     "text": [
      "['Price', 'Age', 'KM', 'HP', 'MetColor', 'Automatic', 'CC', 'Doors', 'Weight', 'Diesel', 'Petrol']\n"
     ]
    }
   ],
   "source": [
    "names=[]\n",
    "for i in data.columns:\n",
    "   names.append(i) \n",
    "print (names)"
   ]
  },
  {
   "cell_type": "code",
   "execution_count": 54,
   "metadata": {},
   "outputs": [],
   "source": [
    "names.remove('Price')"
   ]
  },
  {
   "cell_type": "code",
   "execution_count": 55,
   "metadata": {},
   "outputs": [
    {
     "data": {
      "text/html": [
       "<div>\n",
       "<style scoped>\n",
       "    .dataframe tbody tr th:only-of-type {\n",
       "        vertical-align: middle;\n",
       "    }\n",
       "\n",
       "    .dataframe tbody tr th {\n",
       "        vertical-align: top;\n",
       "    }\n",
       "\n",
       "    .dataframe thead th {\n",
       "        text-align: right;\n",
       "    }\n",
       "</style>\n",
       "<table border=\"1\" class=\"dataframe\">\n",
       "  <thead>\n",
       "    <tr style=\"text-align: right;\">\n",
       "      <th></th>\n",
       "      <th>Names</th>\n",
       "      <th>Co-efficients</th>\n",
       "    </tr>\n",
       "  </thead>\n",
       "  <tbody>\n",
       "    <tr>\n",
       "      <th>0</th>\n",
       "      <td>Age</td>\n",
       "      <td>-122.970759</td>\n",
       "    </tr>\n",
       "    <tr>\n",
       "      <th>1</th>\n",
       "      <td>KM</td>\n",
       "      <td>-0.016694</td>\n",
       "    </tr>\n",
       "    <tr>\n",
       "      <th>2</th>\n",
       "      <td>HP</td>\n",
       "      <td>63.788227</td>\n",
       "    </tr>\n",
       "    <tr>\n",
       "      <th>3</th>\n",
       "      <td>MetColor</td>\n",
       "      <td>49.386788</td>\n",
       "    </tr>\n",
       "    <tr>\n",
       "      <th>4</th>\n",
       "      <td>Automatic</td>\n",
       "      <td>383.917462</td>\n",
       "    </tr>\n",
       "    <tr>\n",
       "      <th>5</th>\n",
       "      <td>CC</td>\n",
       "      <td>-4.508634</td>\n",
       "    </tr>\n",
       "    <tr>\n",
       "      <th>6</th>\n",
       "      <td>Doors</td>\n",
       "      <td>14.914948</td>\n",
       "    </tr>\n",
       "    <tr>\n",
       "      <th>7</th>\n",
       "      <td>Weight</td>\n",
       "      <td>18.340190</td>\n",
       "    </tr>\n",
       "    <tr>\n",
       "      <th>8</th>\n",
       "      <td>Diesel</td>\n",
       "      <td>3686.197512</td>\n",
       "    </tr>\n",
       "    <tr>\n",
       "      <th>9</th>\n",
       "      <td>Petrol</td>\n",
       "      <td>1062.948563</td>\n",
       "    </tr>\n",
       "  </tbody>\n",
       "</table>\n",
       "</div>"
      ],
      "text/plain": [
       "       Names  Co-efficients\n",
       "0        Age    -122.970759\n",
       "1         KM      -0.016694\n",
       "2         HP      63.788227\n",
       "3   MetColor      49.386788\n",
       "4  Automatic     383.917462\n",
       "5         CC      -4.508634\n",
       "6      Doors      14.914948\n",
       "7     Weight      18.340190\n",
       "8     Diesel    3686.197512\n",
       "9     Petrol    1062.948563"
      ]
     },
     "execution_count": 55,
     "metadata": {},
     "output_type": "execute_result"
    }
   ],
   "source": [
    "pd.DataFrame(list(zip(names, lr.coef_)), columns = ['Names', 'Co-efficients'])"
   ]
  },
  {
   "cell_type": "markdown",
   "metadata": {},
   "source": [
    "## Calculation of variable significance"
   ]
  },
  {
   "cell_type": "code",
   "execution_count": 58,
   "metadata": {},
   "outputs": [],
   "source": [
    "import statsmodels.api as sm"
   ]
  },
  {
   "cell_type": "code",
   "execution_count": 56,
   "metadata": {},
   "outputs": [],
   "source": [
    "from statsmodels.sandbox.regression.predstd import wls_prediction_std"
   ]
  },
  {
   "cell_type": "code",
   "execution_count": 57,
   "metadata": {},
   "outputs": [],
   "source": [
    "model1 = sm.OLS(y_train, x_train)"
   ]
  },
  {
   "cell_type": "code",
   "execution_count": 58,
   "metadata": {},
   "outputs": [],
   "source": [
    "result = model1.fit()"
   ]
  },
  {
   "cell_type": "code",
   "execution_count": 59,
   "metadata": {},
   "outputs": [
    {
     "name": "stdout",
     "output_type": "stream",
     "text": [
      "                            OLS Regression Results                            \n",
      "==============================================================================\n",
      "Dep. Variable:                  Price   R-squared:                       0.986\n",
      "Model:                            OLS   Adj. R-squared:                  0.986\n",
      "Method:                 Least Squares   F-statistic:                     7540.\n",
      "Date:                Tue, 24 Apr 2018   Prob (F-statistic):               0.00\n",
      "Time:                        19:34:09   Log-Likelihood:                -9279.9\n",
      "No. Observations:                1077   AIC:                         1.858e+04\n",
      "Df Residuals:                    1067   BIC:                         1.863e+04\n",
      "Df Model:                          10                                         \n",
      "Covariance Type:            nonrobust                                         \n",
      "==============================================================================\n",
      "                 coef    std err          t      P>|t|      [0.025      0.975]\n",
      "------------------------------------------------------------------------------\n",
      "Age         -124.2012      2.909    -42.697      0.000    -129.909    -118.493\n",
      "KM            -0.0169      0.002    -10.657      0.000      -0.020      -0.014\n",
      "HP            66.8716      5.768     11.595      0.000      55.555      78.189\n",
      "MetColor      46.2779     88.593      0.522      0.602    -127.559     220.115\n",
      "Automatic    424.3098    175.297      2.421      0.016      80.343     768.277\n",
      "CC            -4.7674      0.583     -8.181      0.000      -5.911      -3.624\n",
      "Doors         27.3974     45.792      0.598      0.550     -62.455     117.250\n",
      "Weight        16.9604      0.642     26.410      0.000      15.700      18.220\n",
      "Diesel      3843.8380    577.326      6.658      0.000    2711.015    4976.661\n",
      "Petrol       884.6064    359.430      2.461      0.014     179.336    1589.877\n",
      "==============================================================================\n",
      "Omnibus:                      171.139   Durbin-Watson:                   2.050\n",
      "Prob(Omnibus):                  0.000   Jarque-Bera (JB):             1395.521\n",
      "Skew:                          -0.466   Prob(JB):                    9.25e-304\n",
      "Kurtosis:                       8.498   Cond. No.                     1.21e+06\n",
      "==============================================================================\n",
      "\n",
      "Warnings:\n",
      "[1] Standard Errors assume that the covariance matrix of the errors is correctly specified.\n",
      "[2] The condition number is large, 1.21e+06. This might indicate that there are\n",
      "strong multicollinearity or other numerical problems.\n"
     ]
    }
   ],
   "source": [
    "print(result.summary())"
   ]
  },
  {
   "cell_type": "code",
   "execution_count": 59,
   "metadata": {},
   "outputs": [
    {
     "data": {
      "text/plain": [
       "Index(['Age', 'KM', 'HP', 'MetColor', 'Automatic', 'CC', 'Doors', 'Weight',\n",
       "       'Diesel', 'Petrol'],\n",
       "      dtype='object')"
      ]
     },
     "execution_count": 59,
     "metadata": {},
     "output_type": "execute_result"
    }
   ],
   "source": [
    "#by hypothesis testing, the following fields are significant\n",
    "#Age, KM, HP, Automatic, CC, Weight, Diesel, Petrol\n",
    "#model using the Above fields. Drop Doors and MetColor\n",
    "x.columns"
   ]
  },
  {
   "cell_type": "code",
   "execution_count": 60,
   "metadata": {},
   "outputs": [],
   "source": [
    "x_new=x.drop(['MetColor','Doors'],axis=1)"
   ]
  },
  {
   "cell_type": "code",
   "execution_count": 61,
   "metadata": {},
   "outputs": [
    {
     "data": {
      "text/plain": [
       "Index(['Age', 'KM', 'HP', 'Automatic', 'CC', 'Weight', 'Diesel', 'Petrol'], dtype='object')"
      ]
     },
     "execution_count": 61,
     "metadata": {},
     "output_type": "execute_result"
    }
   ],
   "source": [
    "x_new.columns"
   ]
  },
  {
   "cell_type": "code",
   "execution_count": 62,
   "metadata": {},
   "outputs": [],
   "source": [
    "x_new_train, x_new_test, y_train_new, y_test_new = train_test_split(x_new, y, test_size = 0.25)"
   ]
  },
  {
   "cell_type": "code",
   "execution_count": 63,
   "metadata": {},
   "outputs": [
    {
     "data": {
      "text/plain": [
       "(1436, 8)"
      ]
     },
     "execution_count": 63,
     "metadata": {},
     "output_type": "execute_result"
    }
   ],
   "source": [
    "x_new.shape"
   ]
  },
  {
   "cell_type": "code",
   "execution_count": 64,
   "metadata": {},
   "outputs": [
    {
     "data": {
      "text/plain": [
       "Index(['Age', 'KM', 'HP', 'Automatic', 'CC', 'Weight', 'Diesel', 'Petrol'], dtype='object')"
      ]
     },
     "execution_count": 64,
     "metadata": {},
     "output_type": "execute_result"
    }
   ],
   "source": [
    "x_new_train.columns"
   ]
  },
  {
   "cell_type": "code",
   "execution_count": 65,
   "metadata": {},
   "outputs": [],
   "source": [
    "lr_new = LinearRegression()"
   ]
  },
  {
   "cell_type": "code",
   "execution_count": 66,
   "metadata": {},
   "outputs": [
    {
     "data": {
      "text/plain": [
       "LinearRegression(copy_X=True, fit_intercept=True, n_jobs=None, normalize=False)"
      ]
     },
     "execution_count": 66,
     "metadata": {},
     "output_type": "execute_result"
    }
   ],
   "source": [
    "lr_new.fit(x_new_train,y_train_new)"
   ]
  },
  {
   "cell_type": "code",
   "execution_count": 67,
   "metadata": {},
   "outputs": [],
   "source": [
    "lr_predict_new = lr_new.predict(x_new_test)"
   ]
  },
  {
   "cell_type": "code",
   "execution_count": 68,
   "metadata": {},
   "outputs": [
    {
     "name": "stdout",
     "output_type": "stream",
     "text": [
      "-1907.3919287200224\n",
      "[-1.21221462e+02 -1.80373795e-02  6.53804797e+01  3.15585137e+02\n",
      " -4.41599999e+00  1.80031724e+01  4.21539806e+03  1.32793647e+03]\n"
     ]
    }
   ],
   "source": [
    "print(lr_new.intercept_)\n",
    "print(lr_new.coef_)"
   ]
  },
  {
   "cell_type": "code",
   "execution_count": 69,
   "metadata": {},
   "outputs": [
    {
     "name": "stdout",
     "output_type": "stream",
     "text": [
      "['Age', 'KM', 'HP', 'Automatic', 'CC', 'Weight', 'Diesel', 'Petrol']\n"
     ]
    }
   ],
   "source": [
    "names_new = []\n",
    "for j in x_new.columns:\n",
    "    names_new.append(j)\n",
    "print(names_new)"
   ]
  },
  {
   "cell_type": "code",
   "execution_count": 70,
   "metadata": {},
   "outputs": [
    {
     "data": {
      "text/html": [
       "<div>\n",
       "<style scoped>\n",
       "    .dataframe tbody tr th:only-of-type {\n",
       "        vertical-align: middle;\n",
       "    }\n",
       "\n",
       "    .dataframe tbody tr th {\n",
       "        vertical-align: top;\n",
       "    }\n",
       "\n",
       "    .dataframe thead th {\n",
       "        text-align: right;\n",
       "    }\n",
       "</style>\n",
       "<table border=\"1\" class=\"dataframe\">\n",
       "  <thead>\n",
       "    <tr style=\"text-align: right;\">\n",
       "      <th></th>\n",
       "      <th>Names</th>\n",
       "      <th>New Co-efficients</th>\n",
       "    </tr>\n",
       "  </thead>\n",
       "  <tbody>\n",
       "    <tr>\n",
       "      <th>0</th>\n",
       "      <td>Age</td>\n",
       "      <td>-121.221462</td>\n",
       "    </tr>\n",
       "    <tr>\n",
       "      <th>1</th>\n",
       "      <td>KM</td>\n",
       "      <td>-0.018037</td>\n",
       "    </tr>\n",
       "    <tr>\n",
       "      <th>2</th>\n",
       "      <td>HP</td>\n",
       "      <td>65.380480</td>\n",
       "    </tr>\n",
       "    <tr>\n",
       "      <th>3</th>\n",
       "      <td>Automatic</td>\n",
       "      <td>315.585137</td>\n",
       "    </tr>\n",
       "    <tr>\n",
       "      <th>4</th>\n",
       "      <td>CC</td>\n",
       "      <td>-4.416000</td>\n",
       "    </tr>\n",
       "    <tr>\n",
       "      <th>5</th>\n",
       "      <td>Weight</td>\n",
       "      <td>18.003172</td>\n",
       "    </tr>\n",
       "    <tr>\n",
       "      <th>6</th>\n",
       "      <td>Diesel</td>\n",
       "      <td>4215.398055</td>\n",
       "    </tr>\n",
       "    <tr>\n",
       "      <th>7</th>\n",
       "      <td>Petrol</td>\n",
       "      <td>1327.936465</td>\n",
       "    </tr>\n",
       "  </tbody>\n",
       "</table>\n",
       "</div>"
      ],
      "text/plain": [
       "       Names  New Co-efficients\n",
       "0        Age        -121.221462\n",
       "1         KM          -0.018037\n",
       "2         HP          65.380480\n",
       "3  Automatic         315.585137\n",
       "4         CC          -4.416000\n",
       "5     Weight          18.003172\n",
       "6     Diesel        4215.398055\n",
       "7     Petrol        1327.936465"
      ]
     },
     "execution_count": 70,
     "metadata": {},
     "output_type": "execute_result"
    }
   ],
   "source": [
    "pd.DataFrame(list(zip(names_new, lr_new.coef_)), columns=['Names', 'New Co-efficients'])"
   ]
  },
  {
   "cell_type": "code",
   "execution_count": 71,
   "metadata": {},
   "outputs": [
    {
     "name": "stdout",
     "output_type": "stream",
     "text": [
      "0.8730979335381296\n",
      "0.8732111668252278\n"
     ]
    }
   ],
   "source": [
    "#check model performance by computing R2 value and explained_variance_score\n",
    "print(r2_score(y_test_new,lr_predict_new))\n",
    "print(explained_variance_score(y_test_new,lr_predict_new))"
   ]
  },
  {
   "cell_type": "code",
   "execution_count": 72,
   "metadata": {},
   "outputs": [
    {
     "name": "stdout",
     "output_type": "stream",
     "text": [
      "                                 OLS Regression Results                                \n",
      "=======================================================================================\n",
      "Dep. Variable:                  Price   R-squared (uncentered):                   0.987\n",
      "Model:                            OLS   Adj. R-squared (uncentered):              0.986\n",
      "Method:                 Least Squares   F-statistic:                              9805.\n",
      "Date:                Tue, 09 Jun 2020   Prob (F-statistic):                        0.00\n",
      "Time:                        14:08:28   Log-Likelihood:                         -9259.3\n",
      "No. Observations:                1077   AIC:                                  1.853e+04\n",
      "Df Residuals:                    1069   BIC:                                  1.857e+04\n",
      "Df Model:                           8                                                  \n",
      "Covariance Type:            nonrobust                                                  \n",
      "==============================================================================\n",
      "                 coef    std err          t      P>|t|      [0.025      0.975]\n",
      "------------------------------------------------------------------------------\n",
      "Age         -122.5766      2.825    -43.384      0.000    -128.121    -117.033\n",
      "KM            -0.0182      0.001    -12.239      0.000      -0.021      -0.015\n",
      "HP            68.9101      6.309     10.922      0.000      56.531      81.290\n",
      "Automatic    353.2666    176.060      2.007      0.045       7.805     698.728\n",
      "CC            -4.7106      0.600     -7.855      0.000      -5.887      -3.534\n",
      "Weight        16.5548      0.595     27.801      0.000      15.386      17.723\n",
      "Diesel      4383.3373    586.544      7.473      0.000    3232.429    5534.246\n",
      "Petrol      1123.2198    352.293      3.188      0.001     431.956    1814.484\n",
      "==============================================================================\n",
      "Omnibus:                      120.578   Durbin-Watson:                   2.016\n",
      "Prob(Omnibus):                  0.000   Jarque-Bera (JB):              808.758\n",
      "Skew:                          -0.247   Prob(JB):                    2.40e-176\n",
      "Kurtosis:                       7.216   Cond. No.                     1.27e+06\n",
      "==============================================================================\n",
      "\n",
      "Warnings:\n",
      "[1] Standard Errors assume that the covariance matrix of the errors is correctly specified.\n",
      "[2] The condition number is large, 1.27e+06. This might indicate that there are\n",
      "strong multicollinearity or other numerical problems.\n"
     ]
    }
   ],
   "source": [
    "#check the R2 and adjusted R2 for x_new dataset \n",
    "model2 = sm.OLS(y_train_new,x_new_train)\n",
    "result2 = model2.fit()\n",
    "print(result2.summary())"
   ]
  },
  {
   "cell_type": "markdown",
   "metadata": {},
   "source": [
    "### My thoughts on the result"
   ]
  },
  {
   "cell_type": "markdown",
   "metadata": {},
   "source": [
    "1. R2_score for model2 is higher than model1.\n",
    "2. R2 and Adjusted R2 values seem to both remain unchanged between the 2 models created (model1 and model2). This means that the removal of the Doors and MetColor columns did not make much of a difference to the model performance. NOTE - Adjusted R2 increases only when the addition of a new predictor increases it value.\n",
    "3. Durbin-Watson test \n",
    "    a. model1 is 2.050. Which means that there is no autocorrelation in the errors of the predicted values. \n",
    "    b. model2 is 1.959 (rounded off to 2). Which means that there is no autocorrelation in the errors of the predicted\n",
    "    values.\n",
    "4. Predited R2.. How do I calculate that!?? Is it the same as AIC (Akaike Information Criterion)? Lower the AIC, better the ability of the model to predict future values. Anyway, my second model has lower AIC as compared to the first. "
   ]
  },
  {
   "cell_type": "markdown",
   "metadata": {},
   "source": [
    "#### Considering all the points mentioned above, I can deduce that model2 (without columns MetColor and Doors) is a much better performing model than model1 (which contains all columns from the original test data)"
   ]
  }
 ],
 "metadata": {
  "kernelspec": {
   "display_name": "Python 3",
   "language": "python",
   "name": "python3"
  },
  "language_info": {
   "codemirror_mode": {
    "name": "ipython",
    "version": 3
   },
   "file_extension": ".py",
   "mimetype": "text/x-python",
   "name": "python",
   "nbconvert_exporter": "python",
   "pygments_lexer": "ipython3",
   "version": "3.6.9"
  }
 },
 "nbformat": 4,
 "nbformat_minor": 2
}
